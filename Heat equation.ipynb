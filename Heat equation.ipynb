{
 "cells": [
  {
   "cell_type": "code",
   "execution_count": 1,
   "metadata": {},
   "outputs": [],
   "source": [
    "# https://scipython.com/book/chapter-7-matplotlib/examples/the-two-dimensional-diffusion-equation/\n",
    "# https://seaborn.pydata.org/generated/seaborn.heatmap.html\n",
    "import numpy as np\n",
    "import seaborn as sns\n",
    "import matplotlib.pyplot as plt\n",
    "import matplotlib.animation as animation\n",
    "from IPython.display import HTML\n",
    "\n",
    "\n",
    "#plt.rcParams['figure.figsize'] = 20,40\n"
   ]
  },
  {
   "cell_type": "code",
   "execution_count": 2,
   "metadata": {},
   "outputs": [],
   "source": [
    "# heat eqn in 2d\n",
    "# du/dt = c * lap(u) = c*(d^2u/dx + d^2u/dy)\n",
    "w = h = 10\n",
    "T = 0.062\n",
    "# thermal diffusivitiy\n",
    "C = 4\n",
    "\n",
    "dx = dy = 0.1\n",
    "dx2, dy2 = (dx**2), (dy**2)\n",
    "\n",
    "#The following code applies the above formula to follow the evolution of the temperature of the plate. It can be shown that the maximum time step, \n",
    "#Δt that we can allow without the process becoming unstable is\n",
    "#Δt=(1/2D)(ΔxΔy)^2/(Δx)^2+(Δy)^2.\n",
    "\n",
    "dt = (dx2 * dy2)/(2 * C * (dx2 + dy2))\n",
    "#dt = 0.1\n",
    "\n",
    "nx = int(w/dx)\n",
    "ny = int(h/dy)\n",
    "nt = int(T/dt)\n",
    "\n",
    "\n",
    "Tcool, Thot = 300, 700\n",
    "\n",
    "# initial profile\n",
    "u0 = Tcool * np.ones((nx, ny))\n",
    "\n",
    "r, cx, cy = 2, 5, 5\n",
    "for i in range(nx):\n",
    "    for j in range(ny):\n",
    "        x, y = i * dx, j * dy\n",
    "        if (x-cx)**2 + (y-cy)**2 < r**2:\n",
    "            u0[i, j] = Thot"
   ]
  },
  {
   "cell_type": "code",
   "execution_count": 3,
   "metadata": {},
   "outputs": [
    {
     "name": "stdout",
     "output_type": "stream",
     "text": [
      "(99, 100, 100)\n"
     ]
    }
   ],
   "source": [
    "#u = np.zeros((nt, nx, ny))\n",
    "#u[0, :, :] = u0\n",
    "#u.shape\n",
    "\n",
    "# https://docs.scipy.org/doc/numpy/reference/generated/numpy.tile.html\n",
    "u = np.tile(u0, (nt, 1, 1))\n",
    "# repeat u0 in the first axis nt times ==> copy u0 across all time t\n",
    "# to maintain the boundary conds\n",
    "print(u.shape)"
   ]
  },
  {
   "cell_type": "code",
   "execution_count": 4,
   "metadata": {},
   "outputs": [],
   "source": [
    "# this code is EXTREMELY slow due to lack of C-code optimization by\n",
    "# doing array arithmetic in Numpy\n",
    "\n",
    "#for t in range(1, nt):\n",
    "    #for i in range(1, nx-1):\n",
    "    #    for j in range(1, ny-1):\n",
    "    #        lapx = (u[t-1, i+1, j] - 2 * u[t-1, i, j] + u[t-1, i-1, j])/dx2\n",
    "    #        lapy = (u[t-1, i, j+1] - 2 * u[t-1, i, j] + u[t-1, i, j-1])/dy2\n",
    "    #        \n",
    "    #        u[t, i, j] = u[t-1, i, j] + C * dt * (lapx + lapy)\n",
    "    \n",
    "for t in range(1, nt):\n",
    "    lapx = (u[t-1, 2:, 1:-1] - 2*u[t, 1:-1, 1:-1] + u[t-1, :-2, 1:-1])/dx2\n",
    "    lapy = (u[t-1, 1:-1, 2:] - 2*u[t, 1:-1, 1:-1] + u[t-1, 1:-1, :-2])/dy2\n",
    "    # 1:-1 to exclude the boundary\n",
    "    u[t, 1:-1, 1:-1] = u[t-1, 1:-1, 1:-1] + C * dt * (lapx + lapy)\n",
    "    \n"
   ]
  },
  {
   "cell_type": "code",
   "execution_count": 5,
   "metadata": {
    "scrolled": true
   },
   "outputs": [
    {
     "data": {
      "image/png": "[encoded data removed]",
      "text/plain": [
       "<Figure size 432x288 with 1 Axes>"
      ]
     },
     "metadata": {
      "needs_background": "light"
     },
     "output_type": "display_data"
    }
   ],
   "source": [
    "fig, ax = plt.subplots()\n",
    "\n",
    "# https://stackoverflow.com/questions/33742845/how-to-animate-a-seaborns-heatmap-or-correlation-matrix\n",
    "# https://gist.github.com/iwatake2222/43b1d8bc1dcfd2f0bf19a81486985d59\n",
    "#https://stackoverflow.com/questions/53917596/how-to-make-jupyter-html-matplotlib-animation-with-seaborn-heatmap\n",
    "\n",
    "\n",
    "jump = 1\n",
    "def update(i):\n",
    "    sns.heatmap(u[jump * i, :, :], ax=ax, cbar=False)\n",
    "    \n",
    "# super slow. Totally hopeless ...\n",
    "ani = animation.FuncAnimation(fig, update, frames=int(nt/jump))"
   ]
  },
  {
   "cell_type": "code",
   "execution_count": 6,
   "metadata": {
    "scrolled": true
   },
   "outputs": [
    {
     "ename": "IndexError",
     "evalue": "index 100 is out of bounds for axis 0 with size 99",
     "output_type": "error",
     "traceback": [
      "\u001b[0;31m---------------------------------------------------------------------------\u001b[0m",
      "\u001b[0;31mIndexError\u001b[0m                                Traceback (most recent call last)",
      "\u001b[0;32m<ipython-input-6-2829efcb1b06>\u001b[0m in \u001b[0;36m<module>\u001b[0;34m\u001b[0m\n\u001b[1;32m      2\u001b[0m     \u001b[0mplt\u001b[0m\u001b[0;34m.\u001b[0m\u001b[0msubplot\u001b[0m\u001b[0;34m(\u001b[0m\u001b[0;36m10\u001b[0m\u001b[0;34m,\u001b[0m \u001b[0;36m1\u001b[0m\u001b[0;34m,\u001b[0m\u001b[0mi\u001b[0m\u001b[0;34m+\u001b[0m\u001b[0;36m1\u001b[0m\u001b[0;34m)\u001b[0m\u001b[0;34m\u001b[0m\u001b[0;34m\u001b[0m\u001b[0m\n\u001b[1;32m      3\u001b[0m \u001b[0;34m\u001b[0m\u001b[0m\n\u001b[0;32m----> 4\u001b[0;31m     \u001b[0mcol\u001b[0m \u001b[0;34m=\u001b[0m \u001b[0msns\u001b[0m\u001b[0;34m.\u001b[0m\u001b[0mheatmap\u001b[0m\u001b[0;34m(\u001b[0m\u001b[0mu\u001b[0m\u001b[0;34m[\u001b[0m\u001b[0mi\u001b[0m\u001b[0;34m*\u001b[0m\u001b[0;36m100\u001b[0m\u001b[0;34m,\u001b[0m\u001b[0;34m:\u001b[0m\u001b[0;34m,\u001b[0m\u001b[0;34m:\u001b[0m\u001b[0;34m]\u001b[0m\u001b[0;34m)\u001b[0m\u001b[0;34m\u001b[0m\u001b[0;34m\u001b[0m\u001b[0m\n\u001b[0m",
      "\u001b[0;31mIndexError\u001b[0m: index 100 is out of bounds for axis 0 with size 99"
     ]
    },
    {
     "data": {
      "image/png": "[encoded data removed]",
      "text/plain": [
       "<Figure size 432x288 with 3 Axes>"
      ]
     },
     "metadata": {
      "needs_background": "light"
     },
     "output_type": "display_data"
    }
   ],
   "source": [
    "for i in range(10):\n",
    "    plt.subplot(10, 1,i+1)\n",
    "    \n",
    "    col = sns.heatmap(u[i*100,:,:])"
   ]
  },
  {
   "cell_type": "code",
   "execution_count": null,
   "metadata": {},
   "outputs": [],
   "source": [
    "ani.save('heat.mp4')"
   ]
  },
  {
   "cell_type": "code",
   "execution_count": 15,
   "metadata": {
    "scrolled": false
   },
   "outputs": [
    {
     "data": {
      "text/plain": [
       "<matplotlib.axes._subplots.AxesSubplot at 0x120aafb10>"
      ]
     },
     "execution_count": 15,
     "metadata": {},
     "output_type": "execute_result"
    },
    {
     "data": {
      "image/png": "[encoded data removed]",
      "text/plain": [
       "<Figure size 432x288 with 2 Axes>"
      ]
     },
     "metadata": {
      "needs_background": "light"
     },
     "output_type": "display_data"
    }
   ],
   "source": [
    "sns.heatmap(u[-1, :, :])"
   ]
  },
  {
   "cell_type": "code",
   "execution_count": null,
   "metadata": {},
   "outputs": [],
   "source": []
  }
 ],
 "metadata": {
  "kernelspec": {
   "display_name": "Python 3",
   "language": "python",
   "name": "python3"
  },
  "language_info": {
   "codemirror_mode": {
    "name": "ipython",
    "version": 3
   },
   "file_extension": ".py",
   "mimetype": "text/x-python",
   "name": "python",
   "nbconvert_exporter": "python",
   "pygments_lexer": "ipython3",
   "version": "3.7.4"
  },
  "toc": {
   "base_numbering": 1,
   "nav_menu": {},
   "number_sections": true,
   "sideBar": true,
   "skip_h1_title": false,
   "title_cell": "Table of Contents",
   "title_sidebar": "Contents",
   "toc_cell": false,
   "toc_position": {},
   "toc_section_display": true,
   "toc_window_display": false
  }
 },
 "nbformat": 4,
 "nbformat_minor": 2
}
